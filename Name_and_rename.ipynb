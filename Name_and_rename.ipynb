{
 "cells": [
  {
   "cell_type": "code",
   "execution_count": 169,
   "metadata": {},
   "outputs": [],
   "source": [
    "import glob\n",
    "import os\n",
    "import pandas as pd\n",
    "import numpy as np\n",
    "\n",
    "focus_sentense_dir = '../Untitled Folder/name_and_rename/F/ID-csv.xlsx'\n",
    "shigeki_dir = '../Untitled Folder/name_and_rename/F/shigeki.xlsx'\n",
    "\n",
    "# root = \"../Untitled Folder/name_and_rename/temp-1/\"\n",
    "# files = glob.glob(\"../Untitled Folder/name_and_rename/temp-1/*.csv\")\n",
    "# files.sort(key=os.path.getmtime)\n",
    "# print(\"\\n\".join(files))"
   ]
  },
  {
   "cell_type": "code",
   "execution_count": 166,
   "metadata": {},
   "outputs": [
    {
     "name": "stdout",
     "output_type": "stream",
     "text": [
      "  Speaker ID focus sentense_id sentense_content\n",
      "0       JN01    BR      SE01_1              青い海\n",
      "1       JN02    BR      SE01_2             青い海2\n",
      "2       JN03    BR      SE02_1           名古屋の紅葉\n",
      "3       CL01    BR      SE02_2          名古屋の紅葉2\n",
      "4       CL02    BR      SE03_1            猫を撫でる\n"
     ]
    }
   ],
   "source": [
    "focus_to_senid = pd.read_excel(focus_sentense_dir)\n",
    "print(focus_to_senid.head())"
   ]
  },
  {
   "cell_type": "code",
   "execution_count": 167,
   "metadata": {},
   "outputs": [],
   "source": [
    "dict_content_id = dict(zip(focus_to_senid['sentense_content'].tolist(), focus_to_senid['sentense_id'].tolist()))"
   ]
  },
  {
   "cell_type": "code",
   "execution_count": 168,
   "metadata": {},
   "outputs": [],
   "source": [
    "dict_content_focus = dict(zip(focus_to_senid['sentense_content'].tolist(), focus_to_senid['focus'].tolist()))"
   ]
  },
  {
   "cell_type": "code",
   "execution_count": 193,
   "metadata": {},
   "outputs": [],
   "source": [
    "def convert_noduplite(before):\n",
    "    after=[]\n",
    "    for item in before:\n",
    "        if item not in after:\n",
    "            after.append(item)\n",
    "        else:\n",
    "            after.append(item + '2')\n",
    "    return after\n",
    "\n",
    "def create_label(sentense_list):\n",
    "    label=[]\n",
    "    for item in sentense_list:\n",
    "        target = dict_content_id.get(item, None)\n",
    "        if target:\n",
    "            label.append(target)\n",
    "        else:\n",
    "            label.append('NAN')\n",
    "    return label\n",
    "\n",
    "def create_focus(sentense_list):\n",
    "    label_focus = []\n",
    "    for item in sentense_list:\n",
    "        target = dict_content_focus.get(item, None)\n",
    "        if target:\n",
    "            label_focus.append(target)\n",
    "        else:\n",
    "            label_focus.append('NAN')\n",
    "    return label_focus"
   ]
  },
  {
   "cell_type": "code",
   "execution_count": 194,
   "metadata": {},
   "outputs": [],
   "source": [
    "shigeki = pd.read_excel(shigeki_dir, index_col=0)\n",
    "\n",
    "target_1 = shigeki['list1'].tolist()\n",
    "target_2 = shigeki['list2'].tolist()\n",
    "target_3 = shigeki['list3'].tolist()\n",
    "        \n",
    "target_1_new = convert_noduplite(before=target_1)\n",
    "target_2_new = convert_noduplite(before=target_2)\n",
    "target_3_new = convert_noduplite(before=target_3)\n",
    "\n",
    "# print(target_1_new)\n",
    "# print(target_2_new)\n",
    "# print(target_3_new)"
   ]
  },
  {
   "cell_type": "code",
   "execution_count": 188,
   "metadata": {},
   "outputs": [
    {
     "name": "stdout",
     "output_type": "stream",
     "text": [
      "54\n",
      "54\n"
     ]
    }
   ],
   "source": [
    "print(len(target_1))\n",
    "print(len(target_1_new))"
   ]
  },
  {
   "cell_type": "code",
   "execution_count": 195,
   "metadata": {},
   "outputs": [],
   "source": [
    "label_1 = create_label(target_1_new)\n",
    "label_2 = create_label(target_2_new)\n",
    "label_3 = create_label(target_3_new)"
   ]
  },
  {
   "cell_type": "code",
   "execution_count": 192,
   "metadata": {},
   "outputs": [
    {
     "name": "stdout",
     "output_type": "stream",
     "text": [
      "54\n",
      "54\n"
     ]
    }
   ],
   "source": [
    "print(len(label_1))\n",
    "print(len(target_1_new))"
   ]
  },
  {
   "cell_type": "code",
   "execution_count": 197,
   "metadata": {},
   "outputs": [],
   "source": [
    "label_focus_1 = create_focus(target_1_new)\n",
    "label_focus_2 = create_focus(target_2_new)\n",
    "label_focus_3 = create_focus(target_3_new)"
   ]
  },
  {
   "cell_type": "code",
   "execution_count": 199,
   "metadata": {},
   "outputs": [
    {
     "name": "stdout",
     "output_type": "stream",
     "text": [
      "['BR', 'F1', 'LB', 'BR', 'F3', 'F3', 'LB', 'BR', 'F3', 'BR', 'BR', 'F1', 'BR', 'RB', 'BR', 'F2', 'F1', 'BR', 'BR', 'F2', 'RB', 'F3', 'F3', 'F1', 'F3', 'F3', 'RB', 'F3', 'F3', 'F1', 'F3', 'F3', 'F1', 'LB', 'BR', 'F1', 'F3', 'F1', 'F3', 'RB', 'F1', 'BR', 'BR', 'F1', 'BR', 'F1', 'F1', 'BR', 'F2', 'LB', 'F3', 'F2', 'F1', 'F1']\n",
      "['BR', 'F1', 'F1', 'BR', 'F3', 'F3', 'LB', 'BR', 'F3', 'BR', 'BR', 'BR', 'LB', 'BR', 'BR', 'F2', 'F1', 'RB', 'BR', 'F2', 'F3', 'F3', 'RB', 'F1', 'F3', 'F3', 'F3', 'F3', 'F3', 'BR', 'F1', 'LB', 'F1', 'F3', 'F3', 'F1', 'F1', 'BR', 'RB', 'F1', 'BR', 'F1', 'F3', 'F1', 'BR', 'F1', 'BR', 'RB', 'F2', 'F1', 'F3', 'LB', 'F2', 'F1']\n",
      "['BR', 'F1', 'F1', 'BR', 'F3', 'F3', 'LB', 'BR', 'F3', 'BR', 'BR', 'BR', 'LB', 'BR', 'BR', 'F2', 'F1', 'RB', 'BR', 'F2', 'F3', 'F3', 'RB', 'F1', 'F3', 'F3', 'F3', 'F3', 'F3', 'BR', 'F1', 'LB', 'F3', 'F1', 'F3', 'F1', 'F1', 'BR', 'RB', 'F3', 'F1', 'BR', 'F1', 'F1', 'BR', 'F1', 'BR', 'RB', 'F2', 'F1', 'F3', 'LB', 'F2', 'F1']\n"
     ]
    }
   ],
   "source": [
    "print(label_focus_1)\n",
    "print(label_focus_2)\n",
    "print(label_focus_3)"
   ]
  },
  {
   "cell_type": "code",
   "execution_count": 200,
   "metadata": {},
   "outputs": [],
   "source": [
    "df_1 = pd.DataFrame(list(zip(label_focus_1, target_1_new, label_1)), \n",
    "               columns =['focus', 'sentense_name', 'sentense_id'])\n",
    "\n",
    "df_2 = pd.DataFrame(list(zip(label_focus_2, target_2_new, label_2)), \n",
    "               columns =['focus', 'sentense_name', 'sentense_id'])\n",
    "\n",
    "df_3 = pd.DataFrame(list(zip(label_focus_3, target_3_new, label_3)), \n",
    "               columns =['focus', 'sentense_name', 'sentense_id'])\n"
   ]
  },
  {
   "cell_type": "code",
   "execution_count": 203,
   "metadata": {},
   "outputs": [
    {
     "name": "stdout",
     "output_type": "stream",
     "text": [
      "  focus sentense_name sentense_id\n",
      "0    BR           青い海      SE01_1\n",
      "1    F1       ＃名古屋の紅葉      SE02_1\n",
      "2    LB          お姉さん      SE08_1\n",
      "3    BR       青い屋根になる      SE06_1\n",
      "4    F3     うまい演技を＃見た      SE07_1\n",
      "  focus sentense_name sentense_id\n",
      "0    BR           青い海      SE01_1\n",
      "1    F1       ＃名古屋の紅葉      SE02_1\n",
      "2    F1          ＃青い海      SE01_1\n",
      "3    BR       青い屋根になる      SE06_1\n",
      "4    F3     うまい演技を＃見た      SE07_1\n",
      "  focus sentense_name sentense_id\n",
      "0    BR           青い海      SE01_1\n",
      "1    F1       ＃名古屋の紅葉      SE02_1\n",
      "2    F1          ＃青い海      SE01_1\n",
      "3    BR       青い屋根になる      SE06_1\n",
      "4    F3     うまい演技を＃見た      SE07_1\n"
     ]
    }
   ],
   "source": [
    "print(df_1.head())\n",
    "print(df_2.head())\n",
    "print(df_3.head())"
   ]
  },
  {
   "cell_type": "code",
   "execution_count": 204,
   "metadata": {},
   "outputs": [],
   "source": [
    "df_1.to_csv('mode_1.csv')\n",
    "df_2.to_csv('mode_2.csv')\n",
    "df_3.to_csv('mode_3.csv')"
   ]
  },
  {
   "cell_type": "code",
   "execution_count": 164,
   "metadata": {},
   "outputs": [
    {
     "name": "stdout",
     "output_type": "stream",
     "text": [
      "  focus sentense_name sentense_id\n",
      "0    BR           青い海      SE01_1\n",
      "1    F1       ＃名古屋の紅葉      SE02_1\n",
      "2    LB          お姉さん      SE01_1\n",
      "3    BR       青い屋根になる      SE06_1\n",
      "4    F3     うまい演技を＃見た      SE07_1\n"
     ]
    }
   ],
   "source": [
    "# df_bk = pd.read_csv('backup.csv', index_col=0)\n",
    "# print(df_bk.head())"
   ]
  },
  {
   "cell_type": "code",
   "execution_count": null,
   "metadata": {},
   "outputs": [],
   "source": [
    "# for a,b in zip(id_['attri'].tolist(), label_1):\n",
    "#     print(f'{a}_{b}')\n",
    "#     break"
   ]
  },
  {
   "cell_type": "markdown",
   "metadata": {},
   "source": [
    "## Start rename the folder"
   ]
  },
  {
   "cell_type": "code",
   "execution_count": 205,
   "metadata": {},
   "outputs": [],
   "source": [
    "target_dir = '../Untitled Folder/name_and_rename/F/ITF'"
   ]
  },
  {
   "cell_type": "code",
   "execution_count": 206,
   "metadata": {},
   "outputs": [
    {
     "name": "stdout",
     "output_type": "stream",
     "text": [
      "../Untitled Folder/name_and_rename/F/ITF\\JN01_BR_SE01_1.WAV\n",
      "../Untitled Folder/name_and_rename/F/ITF\\JN01_F1_SE02_1.WAV\n",
      "../Untitled Folder/name_and_rename/F/ITF\\JN01_LB_SE01_1.WAV\n",
      "../Untitled Folder/name_and_rename/F/ITF\\JN01_BR_SE06_1.WAV\n",
      "../Untitled Folder/name_and_rename/F/ITF\\JN01_F3_SE07_1.WAV\n",
      "../Untitled Folder/name_and_rename/F/ITF\\JN01_F3_SE01_1.WAV\n",
      "../Untitled Folder/name_and_rename/F/ITF\\JN01_LB_SE02_1.WAV\n",
      "../Untitled Folder/name_and_rename/F/ITF\\JN01_BR_SE05_1.WAV\n",
      "../Untitled Folder/name_and_rename/F/ITF\\JN01_F3_SE01_2.WAV\n",
      "../Untitled Folder/name_and_rename/F/ITF\\JN01_BR_SE04_1.WAV\n",
      "../Untitled Folder/name_and_rename/F/ITF\\JN01_BR_SE05_2.WAV\n",
      "../Untitled Folder/name_and_rename/F/ITF\\JN01_F1_SE01_1.WAV\n",
      "../Untitled Folder/name_and_rename/F/ITF\\JN01_BR_SE03_1.WAV\n",
      "../Untitled Folder/name_and_rename/F/ITF\\JN01_RB_SE02_1.WAV\n",
      "../Untitled Folder/name_and_rename/F/ITF\\JN01_BR_SE02_1.WAV\n",
      "../Untitled Folder/name_and_rename/F/ITF\\JN01_F2_SE01_1.WAV\n",
      "../Untitled Folder/name_and_rename/F/ITF\\JN01_F1_SE05_1.WAV\n",
      "../Untitled Folder/name_and_rename/F/ITF\\JN01_BR_SE02_2.WAV\n",
      "../Untitled Folder/name_and_rename/F/ITF\\JN01_BR_SE04_2.WAV\n",
      "../Untitled Folder/name_and_rename/F/ITF\\JN01_F2_SE02_1.WAV\n",
      "../Untitled Folder/name_and_rename/F/ITF\\JN01_RB_SE01_1.WAV\n",
      "../Untitled Folder/name_and_rename/F/ITF\\JN01_F3_SE02_1.WAV\n",
      "../Untitled Folder/name_and_rename/F/ITF\\JN01_F3_SE03_1.WAV\n",
      "../Untitled Folder/name_and_rename/F/ITF\\JN01_F1_SE07_1.WAV\n",
      "../Untitled Folder/name_and_rename/F/ITF\\JN01_F3_SE06_1.WAV\n",
      "../Untitled Folder/name_and_rename/F/ITF\\JN01_F3_SE04_1.WAV\n",
      "../Untitled Folder/name_and_rename/F/ITF\\JN01_RB_SE02_2.WAV\n",
      "../Untitled Folder/name_and_rename/F/ITF\\JN01_F3_SE06_2.WAV\n",
      "../Untitled Folder/name_and_rename/F/ITF\\JN01_F3_SE05_1.WAV\n",
      "../Untitled Folder/name_and_rename/F/ITF\\JN01_F1_SE03_1.WAV\n",
      "../Untitled Folder/name_and_rename/F/ITF\\JN01_F3_SE02_2.WAV\n",
      "../Untitled Folder/name_and_rename/F/ITF\\JN01_F3_SE05_2.WAV\n",
      "../Untitled Folder/name_and_rename/F/ITF\\JN01_F1_SE04_1.WAV\n",
      "../Untitled Folder/name_and_rename/F/ITF\\JN01_LB_SE01_2.WAV\n",
      "../Untitled Folder/name_and_rename/F/ITF\\JN01_BR_SE07_1.WAV\n",
      "../Untitled Folder/name_and_rename/F/ITF\\JN01_F1_SE04_2.WAV\n",
      "../Untitled Folder/name_and_rename/F/ITF\\JN01_F3_SE03_2.WAV\n",
      "../Untitled Folder/name_and_rename/F/ITF\\JN01_F1_SE06_1.WAV\n",
      "../Untitled Folder/name_and_rename/F/ITF\\JN01_F3_SE04_2.WAV\n",
      "../Untitled Folder/name_and_rename/F/ITF\\JN01_RB_SE01_2.WAV\n",
      "../Untitled Folder/name_and_rename/F/ITF\\JN01_F1_SE03_2.WAV\n",
      "../Untitled Folder/name_and_rename/F/ITF\\JN01_BR_SE06_2.WAV\n",
      "../Untitled Folder/name_and_rename/F/ITF\\JN01_BR_SE07_2.WAV\n",
      "../Untitled Folder/name_and_rename/F/ITF\\JN01_F1_SE05_2.WAV\n",
      "../Untitled Folder/name_and_rename/F/ITF\\JN01_BR_SE03_2.WAV\n",
      "../Untitled Folder/name_and_rename/F/ITF\\JN01_F1_SE07_2.WAV\n",
      "../Untitled Folder/name_and_rename/F/ITF\\JN01_F1_SE06_2.WAV\n",
      "../Untitled Folder/name_and_rename/F/ITF\\JN01_BR_SE01_2.WAV\n",
      "../Untitled Folder/name_and_rename/F/ITF\\JN01_F2_SE02_2.WAV\n",
      "../Untitled Folder/name_and_rename/F/ITF\\JN01_LB_SE02_2.WAV\n",
      "../Untitled Folder/name_and_rename/F/ITF\\JN01_F3_SE07_2.WAV\n",
      "../Untitled Folder/name_and_rename/F/ITF\\JN01_F2_SE01_2.WAV\n",
      "../Untitled Folder/name_and_rename/F/ITF\\JN01_F1_SE01_2.WAV\n",
      "../Untitled Folder/name_and_rename/F/ITF\\JN01_F1_SE02_2.WAV\n"
     ]
    }
   ],
   "source": [
    "# target_files = os.listdir(target_dir)\n",
    "# print(target_files[:5])\n",
    "\n",
    "target_files = glob.glob(target_dir + '/*.WAV')\n",
    "target_files.sort(key=os.path.getmtime)\n",
    "# print(\"\\n\".join(target_files))"
   ]
  },
  {
   "cell_type": "code",
   "execution_count": 160,
   "metadata": {},
   "outputs": [],
   "source": [
    "def rename(userId, target_dir, label_focus, label_sentense):\n",
    "    target_files = glob.glob(target_dir + '/*.WAV')\n",
    "    target_files.sort(key=os.path.getmtime)\n",
    "    \n",
    "    for i, file in enumerate(target_files):\n",
    "        name_after = f'{userId}_{label_focus[i]}_{label_sentense[i]}.WAV'\n",
    "#         print(i, name_after)\n",
    "            \n",
    "        os.rename(file, os.path.join(target_dir, name_after))\n",
    "\n",
    "    print('Rename finished!')\n",
    "           "
   ]
  },
  {
   "cell_type": "code",
   "execution_count": 161,
   "metadata": {},
   "outputs": [
    {
     "name": "stdout",
     "output_type": "stream",
     "text": [
      "0 JN01_BR_SE01_1.WAV\n",
      "1 JN01_F1_SE02_1.WAV\n",
      "2 JN01_LB_SE01_1.WAV\n",
      "3 JN01_BR_SE06_1.WAV\n",
      "4 JN01_F3_SE07_1.WAV\n",
      "5 JN01_F3_SE01_1.WAV\n",
      "6 JN01_LB_SE02_1.WAV\n",
      "7 JN01_BR_SE05_1.WAV\n",
      "8 JN01_F3_SE01_2.WAV\n",
      "9 JN01_BR_SE04_1.WAV\n",
      "10 JN01_BR_SE05_2.WAV\n",
      "11 JN01_F1_SE01_1.WAV\n",
      "12 JN01_BR_SE03_1.WAV\n",
      "13 JN01_RB_SE02_1.WAV\n",
      "14 JN01_BR_SE02_1.WAV\n",
      "15 JN01_F2_SE01_1.WAV\n",
      "16 JN01_F1_SE05_1.WAV\n",
      "17 JN01_BR_SE02_2.WAV\n",
      "18 JN01_BR_SE04_2.WAV\n",
      "19 JN01_F2_SE02_1.WAV\n",
      "20 JN01_RB_SE01_1.WAV\n",
      "21 JN01_F3_SE02_1.WAV\n",
      "22 JN01_F3_SE03_1.WAV\n",
      "23 JN01_F1_SE07_1.WAV\n",
      "24 JN01_F3_SE06_1.WAV\n",
      "25 JN01_F3_SE04_1.WAV\n",
      "26 JN01_RB_SE02_2.WAV\n",
      "27 JN01_F3_SE06_2.WAV\n",
      "28 JN01_F3_SE05_1.WAV\n",
      "29 JN01_F1_SE03_1.WAV\n",
      "30 JN01_F3_SE02_2.WAV\n",
      "31 JN01_F3_SE05_2.WAV\n",
      "32 JN01_F1_SE04_1.WAV\n",
      "33 JN01_LB_SE01_2.WAV\n",
      "34 JN01_BR_SE07_1.WAV\n",
      "35 JN01_F1_SE04_2.WAV\n",
      "36 JN01_F3_SE03_2.WAV\n",
      "37 JN01_F1_SE06_1.WAV\n",
      "38 JN01_F3_SE04_2.WAV\n",
      "39 JN01_RB_SE01_2.WAV\n",
      "40 JN01_F1_SE03_2.WAV\n",
      "41 JN01_BR_SE06_2.WAV\n",
      "42 JN01_BR_SE07_2.WAV\n",
      "43 JN01_F1_SE05_2.WAV\n",
      "44 JN01_BR_SE03_2.WAV\n",
      "45 JN01_F1_SE07_2.WAV\n",
      "46 JN01_F1_SE06_2.WAV\n",
      "47 JN01_BR_SE01_2.WAV\n",
      "48 JN01_F2_SE02_2.WAV\n",
      "49 JN01_LB_SE02_2.WAV\n",
      "50 JN01_F3_SE07_2.WAV\n",
      "51 JN01_F2_SE01_2.WAV\n",
      "52 JN01_F1_SE01_2.WAV\n",
      "53 JN01_F1_SE02_2.WAV\n"
     ]
    }
   ],
   "source": [
    "rename('JN01', target_dir, label_focus, label_1)"
   ]
  },
  {
   "cell_type": "code",
   "execution_count": null,
   "metadata": {},
   "outputs": [],
   "source": [
    "os.rename(files[0], os.path.join(root, \"rename.csv\"))"
   ]
  }
 ],
 "metadata": {
  "kernelspec": {
   "display_name": "Python 3",
   "language": "python",
   "name": "python3"
  },
  "language_info": {
   "codemirror_mode": {
    "name": "ipython",
    "version": 3
   },
   "file_extension": ".py",
   "mimetype": "text/x-python",
   "name": "python",
   "nbconvert_exporter": "python",
   "pygments_lexer": "ipython3",
   "version": "3.6.9"
  }
 },
 "nbformat": 4,
 "nbformat_minor": 2
}
